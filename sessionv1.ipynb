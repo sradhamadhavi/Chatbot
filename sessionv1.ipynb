{
 "cells": [
  {
   "cell_type": "code",
   "execution_count": 9,
   "metadata": {
    "collapsed": true
   },
   "outputs": [],
   "source": [
    "# import os\n",
    "# import sys\n",
    "# import json\n",
    "# import requests\n",
    "# import nltk\n",
    "# import pymysql\n",
    "# # from nltk.tokenize import sent_tokenize,word_tokenize\n",
    "# #from chatterbot import ChatBot\n",
    "from flask import Flask, request,jsonify,_request_ctx_stack,current_app,has_request_context\n",
    "# from nltk import ne_chunk,pos_tag\n",
    "# from sklearn.externals import joblib\n",
    "# import numpy as np\n",
    "# import spacy\n",
    "app=Flask(__name__)\n",
    "# i=1\n",
    "\n",
    "# # import token_function\n",
    "# #from OpenSSL import SSL\n",
    "# #context=('host.cert','host.key')\n",
    "# nlp = spacy.load('en',parser=False)\n",
    "# from  SpacyTraining_Products import predictEnt\n",
    "# import string\n",
    "# from nltk import word_tokenize          \n",
    "# from nltk.stem.porter import PorterStemmer\n",
    "# import pandas as pd\n",
    "\n",
    "\n",
    "#from messengerbot import messenger\n",
    "\n",
    "ctx=app.app_context()\n",
    "\n",
    "\n",
    "\n"
   ]
  },
  {
   "cell_type": "code",
   "execution_count": 2,
   "metadata": {
    "collapsed": true
   },
   "outputs": [],
   "source": [
    "token=\"EAACVPy7Oy2gBAJrDRYkKzjUfcE8VCaV8DG3m9dKxpnoIwZBVoBuIYkWQkJK7xhWOXjt7i0pPDc9xfWlYypj85xPnopUBJjFcH7gpYJdmNLnk02vaVX9ZBkl2TZBz4ns4qrReNb4NSGpnZCyTyufO6z7eaILpgmtxzXmS6yO7rgZDZD\"\n",
    "url=\"https://graph.facebook.com/v2.6/me/messages\""
   ]
  },
  {
   "cell_type": "code",
   "execution_count": 3,
   "metadata": {
    "collapsed": true
   },
   "outputs": [],
   "source": [
    "stemmer = PorterStemmer()\n",
    "def stem_tokens(tokens, stemmer):\n",
    "    stemmed = []\n",
    "    for item in tokens:\n",
    "        stemmed.append(stemmer.stem(item))\n",
    "    return stemmed\n",
    "\n",
    "def tokenize(text):\n",
    "    text = \"\".join([ch for ch in text if ch not in string.punctuation])\n",
    "    tokens = word_tokenize(text)\n",
    "    stems = stem_tokens(tokens, stemmer)\n",
    "    return stems"
   ]
  },
  {
   "cell_type": "code",
   "execution_count": 5,
   "metadata": {
    "collapsed": true
   },
   "outputs": [],
   "source": [
    "@app.route('/', methods=['GET'])\n",
    "def verify():\n",
    "    # when the endpoint is registered as a webhook, it must echo back\n",
    "    # the 'hub.challenge' value it receives in the query arguments\n",
    "    if request.args.get(\"hub.mode\") == \"subscribe\" and request.args.get(\"hub.challenge\"):\n",
    "        if not request.args.get(\"hub.verify_token\") == \"12345\":#os.environ[\"VERIFY_TOKEN\"]:\n",
    "            return \"Verification token mismatch\", 403\n",
    "        return request.args[\"hub.challenge\"], 200\n",
    "    return \"Hello world\", 200"
   ]
  },
  {
   "cell_type": "code",
   "execution_count": 6,
   "metadata": {
    "collapsed": false
   },
   "outputs": [
    {
     "ename": "SystemExit",
     "evalue": "1",
     "output_type": "error",
     "traceback": [
      "An exception has occurred, use %tb to see the full traceback.\n",
      "\u001b[1;31mSystemExit\u001b[0m\u001b[1;31m:\u001b[0m 1\n"
     ]
    },
    {
     "name": "stderr",
     "output_type": "stream",
     "text": [
      "To exit: use 'exit', 'quit', or Ctrl-D.\n"
     ]
    }
   ],
   "source": [
    "app.run(debug=True,host='0.0.0.0')#,ssl_context=context)"
   ]
  },
  {
   "cell_type": "code",
   "execution_count": 8,
   "metadata": {
    "collapsed": true
   },
   "outputs": [],
   "source": [
    "def get_session():\n",
    "    ctx =  app.app_context()\n",
    "    log(\"inside Session\")\n",
    "    try:\n",
    "        ctx.push()\n",
    "        log(current_app.name)\n",
    "        print(ctx)\n",
    "        ctx.\n",
    "    except:\n",
    "        log(sys.exc_info()[0])\n",
    "   \n",
    "        \n",
    "    if has_request_context():\n",
    "        log(\"inside if\")\n",
    "        "
   ]
  },
  {
   "cell_type": "code",
   "execution_count": null,
   "metadata": {
    "collapsed": true
   },
   "outputs": [],
   "source": []
  }
 ],
 "metadata": {
  "kernelspec": {
   "display_name": "Python [Root]",
   "language": "python",
   "name": "Python [Root]"
  },
  "language_info": {
   "codemirror_mode": {
    "name": "ipython",
    "version": 3
   },
   "file_extension": ".py",
   "mimetype": "text/x-python",
   "name": "python",
   "nbconvert_exporter": "python",
   "pygments_lexer": "ipython3",
   "version": "3.5.2"
  }
 },
 "nbformat": 4,
 "nbformat_minor": 0
}
